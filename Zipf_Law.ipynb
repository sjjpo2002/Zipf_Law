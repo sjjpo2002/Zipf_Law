{
 "cells": [
  {
   "cell_type": "markdown",
   "metadata": {
    "collapsed": true
   },
   "source": [
    "<p><b><left>Verifying Zipf's law on Wikipedia English section</left></p></b>\n",
    "\n",
    "Word count is one the basic tasks in Natural Language Processing (NLP). According to Zipf's Law:\n",
    "\n",
    "<I>\"For a given corpus of natural language utterance, the frequency of any word is inversely proportional to its rank in the frequency table. Thus the most frequent word will occur approximately twice as often as the second most frequent word, three times as often as the third most frequent word, etc.\"</I>- Wikipedia\n",
    "\n",
    "To verify the theaory we need to find the most popular words in a relatively large natural language corpus. How about using the whole Wikipedia articles as the corpus! It seems to be a good fit for this purpose. Using Apache Spark we find the top 20 popular words in Wikipedia. \n"
   ]
  },
  {
   "cell_type": "code",
   "execution_count": 1,
   "metadata": {
    "collapsed": false
   },
   "outputs": [],
   "source": [
    "from operator import add\n",
    "from pyspark import SparkContext\n",
    "from nltk.tokenize import word_tokenize\n",
    "from string import punctuation\n",
    "import matplotlib.pylab as plt\n",
    "import numpy as np\n",
    "import pandas as pd\n",
    "%matplotlib inline\n",
    "plt.style.use('ggplot')"
   ]
  },
  {
   "cell_type": "markdown",
   "metadata": {},
   "source": [
    "We first import all the packages we need to enable tab completion for actual code. We also need a helper function that will tokenize all the words in each line of text. There are few remarks here:\n",
    "\n",
    "* We remove punctuations first by using translate method. Using translate is a little different for unicode and str characters. Since the characters are encoded with unicode in our case we use the unicode translate which takes only one argument which is a translation table or dictionary to map each character. String translate on the other hand takes two arguments with a seperate argument for deletewords. Ord() function will put unicode codes of the punctuations and will map them to None which will result is their removal.\n",
    "\n",
    "* We also convert everything to lowercase cuz in our case it makes sense.\n",
    "\n",
    "* Finally we split the words and return a list of all words"
   ]
  },
  {
   "cell_type": "code",
   "execution_count": 2,
   "metadata": {
    "collapsed": false
   },
   "outputs": [
    {
     "data": {
      "text/html": [
       "<div>\n",
       "<table border=\"1\" class=\"dataframe\">\n",
       "  <thead>\n",
       "    <tr style=\"text-align: right;\">\n",
       "      <th></th>\n",
       "      <th>Frequency</th>\n",
       "    </tr>\n",
       "    <tr>\n",
       "      <th>Words</th>\n",
       "      <th></th>\n",
       "    </tr>\n",
       "  </thead>\n",
       "  <tbody>\n",
       "    <tr>\n",
       "      <th>the</th>\n",
       "      <td>136859109</td>\n",
       "    </tr>\n",
       "    <tr>\n",
       "      <th>of</th>\n",
       "      <td>67145625</td>\n",
       "    </tr>\n",
       "    <tr>\n",
       "      <th>and</th>\n",
       "      <td>56734911</td>\n",
       "    </tr>\n",
       "    <tr>\n",
       "      <th>in</th>\n",
       "      <td>54912806</td>\n",
       "    </tr>\n",
       "    <tr>\n",
       "      <th>a</th>\n",
       "      <td>40367328</td>\n",
       "    </tr>\n",
       "    <tr>\n",
       "      <th>to</th>\n",
       "      <td>38717907</td>\n",
       "    </tr>\n",
       "    <tr>\n",
       "      <th>was</th>\n",
       "      <td>22587671</td>\n",
       "    </tr>\n",
       "    <tr>\n",
       "      <th>is</th>\n",
       "      <td>19311992</td>\n",
       "    </tr>\n",
       "    <tr>\n",
       "      <th>for</th>\n",
       "      <td>16534120</td>\n",
       "    </tr>\n",
       "    <tr>\n",
       "      <th>as</th>\n",
       "      <td>16290666</td>\n",
       "    </tr>\n",
       "    <tr>\n",
       "      <th>on</th>\n",
       "      <td>15580624</td>\n",
       "    </tr>\n",
       "    <tr>\n",
       "      <th>level</th>\n",
       "      <td>14817653</td>\n",
       "    </tr>\n",
       "    <tr>\n",
       "      <th>subtitle</th>\n",
       "      <td>14373537</td>\n",
       "    </tr>\n",
       "    <tr>\n",
       "      <th>by</th>\n",
       "      <td>13932353</td>\n",
       "    </tr>\n",
       "    <tr>\n",
       "      <th>with</th>\n",
       "      <td>13848032</td>\n",
       "    </tr>\n",
       "    <tr>\n",
       "      <th>he</th>\n",
       "      <td>11563118</td>\n",
       "    </tr>\n",
       "    <tr>\n",
       "      <th>2</th>\n",
       "      <td>10883525</td>\n",
       "    </tr>\n",
       "    <tr>\n",
       "      <th>that</th>\n",
       "      <td>10797377</td>\n",
       "    </tr>\n",
       "    <tr>\n",
       "      <th>at</th>\n",
       "      <td>10382294</td>\n",
       "    </tr>\n",
       "    <tr>\n",
       "      <th>from</th>\n",
       "      <td>10216755</td>\n",
       "    </tr>\n",
       "  </tbody>\n",
       "</table>\n",
       "</div>"
      ],
      "text/plain": [
       "          Frequency\n",
       "Words              \n",
       "the       136859109\n",
       "of         67145625\n",
       "and        56734911\n",
       "in         54912806\n",
       "a          40367328\n",
       "to         38717907\n",
       "was        22587671\n",
       "is         19311992\n",
       "for        16534120\n",
       "as         16290666\n",
       "on         15580624\n",
       "level      14817653\n",
       "subtitle   14373537\n",
       "by         13932353\n",
       "with       13848032\n",
       "he         11563118\n",
       "2          10883525\n",
       "that       10797377\n",
       "at         10382294\n",
       "from       10216755"
      ]
     },
     "execution_count": 2,
     "metadata": {},
     "output_type": "execute_result"
    }
   ],
   "source": [
    "def my_tokenizer(s):\n",
    "    return s.translate({ord(c):None for c in punctuation}).lower().split()\n",
    "\n",
    "sc = SparkContext()\n",
    "lines = sc.textFile(r'wiki\\articles_in_plain_text.txt')\n",
    "words = lines.flatMap(my_tokenizer)\n",
    "words_count = words.map(lambda word: (word, 1)).reduceByKey(add)\n",
    "top_20_words = words_count.map(lambda (a, b): (b, a)).sortByKey(ascending=False).take(20)\n",
    "top_20_table = pd.DataFrame(top_20_words, columns=['Frequency', 'Words'])\n",
    "top_20_table.set_index('Words', inplace=True)\n",
    "top_20_table\n",
    "    \n"
   ]
  },
  {
   "cell_type": "markdown",
   "metadata": {},
   "source": [
    "The Spark code is very straightforward. \n",
    "\n",
    "* We build an RDD called lines which has all the articles of Wikipedia. Each article is in one line. \n",
    "\n",
    "* Using flapMap we apply my_tokenizer() to each line and flatten the result at the end. This gives us another RDD which includes all the words from all the lines in a list or array-like object. \n",
    "\n",
    "* To count the number of words we first need to assign a number to each word and then reduce them by key. The values will be all added to gether since we passed the add operator to reduceByKey() transformation. After this step we will have (word, count) pairs for every word in the document. \n",
    "\n",
    "* Since we want to sort them by value we have to swap key, value in each pair cuz Spark doesn't have sortbyvalue() transformation. We can only use sortbykey(). At the end of sort we take() the top 20 popular words. \n",
    "\n",
    "<strong>Notice:</strong> Spark operations are lazy. Only after calling take() which is an action, the code actually is going to run. Before that there was all references to those transformations. "
   ]
  },
  {
   "cell_type": "code",
   "execution_count": 3,
   "metadata": {
    "collapsed": false
   },
   "outputs": [
    {
     "data": {
      "text/plain": [
       "<matplotlib.legend.Legend at 0x1db82978>"
      ]
     },
     "execution_count": 3,
     "metadata": {},
     "output_type": "execute_result"
    },
    {
     "data": {
      "image/png": "[encoded data removed]",
      "text/plain": [
       "<matplotlib.figure.Figure at 0x1d983e10>"
      ]
     },
     "metadata": {},
     "output_type": "display_data"
    }
   ],
   "source": [
    "x = np.linspace(1, 21, num=20)\n",
    "y = np.array([count[0] for count in top_20_words])/float(max([count[0] for count in top_20_words]))\n",
    "plt.bar(x,y, align='center')\n",
    "plt.xticks(x, [count[1] for count in top_20_words], rotation='vertical')\n",
    "plt.plot(x, 1.0/x)\n",
    "plt.legend([\"Zipf's Law\", 'Wiki Word Freq'])"
   ]
  },
  {
   "cell_type": "markdown",
   "metadata": {
    "collapsed": false
   },
   "source": [
    "After plotting the data, it can be seen that the Zipf's Law is kind of true for Wikipedia. "
   ]
  }
 ],
 "metadata": {
  "kernelspec": {
   "display_name": "Python 2",
   "language": "python",
   "name": "python2"
  },
  "language_info": {
   "codemirror_mode": {
    "name": "ipython",
    "version": 2
   },
   "file_extension": ".py",
   "mimetype": "text/x-python",
   "name": "python",
   "nbconvert_exporter": "python",
   "pygments_lexer": "ipython2",
   "version": "2.7.11"
  }
 },
 "nbformat": 4,
 "nbformat_minor": 0
}
